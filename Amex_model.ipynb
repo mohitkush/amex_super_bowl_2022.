{
  "nbformat": 4,
  "nbformat_minor": 0,
  "metadata": {
    "colab": {
      "provenance": []
    },
    "kernelspec": {
      "name": "python3",
      "display_name": "Python 3"
    },
    "language_info": {
      "name": "python"
    }
  },
  "cells": [
    {
      "cell_type": "code",
      "source": [
        "!pip install optuna"
      ],
      "metadata": {
        "colab": {
          "base_uri": "https://localhost:8080/"
        },
        "id": "gNszB9rllBaF",
        "outputId": "57e1e642-3949-4d9a-d3e7-93f4e1d797d4"
      },
      "execution_count": null,
      "outputs": [
        {
          "output_type": "stream",
          "name": "stdout",
          "text": [
            "Collecting optuna\n",
            "  Downloading optuna-2.10.0-py3-none-any.whl (308 kB)\n",
            "\u001b[?25l\r\u001b[K     |█                               | 10 kB 21.8 MB/s eta 0:00:01\r\u001b[K     |██▏                             | 20 kB 24.8 MB/s eta 0:00:01\r\u001b[K     |███▏                            | 30 kB 11.0 MB/s eta 0:00:01\r\u001b[K     |████▎                           | 40 kB 8.6 MB/s eta 0:00:01\r\u001b[K     |█████▎                          | 51 kB 5.1 MB/s eta 0:00:01\r\u001b[K     |██████▍                         | 61 kB 5.4 MB/s eta 0:00:01\r\u001b[K     |███████▍                        | 71 kB 5.8 MB/s eta 0:00:01\r\u001b[K     |████████▌                       | 81 kB 6.5 MB/s eta 0:00:01\r\u001b[K     |█████████▋                      | 92 kB 6.6 MB/s eta 0:00:01\r\u001b[K     |██████████▋                     | 102 kB 5.2 MB/s eta 0:00:01\r\u001b[K     |███████████▊                    | 112 kB 5.2 MB/s eta 0:00:01\r\u001b[K     |████████████▊                   | 122 kB 5.2 MB/s eta 0:00:01\r\u001b[K     |█████████████▉                  | 133 kB 5.2 MB/s eta 0:00:01\r\u001b[K     |██████████████▉                 | 143 kB 5.2 MB/s eta 0:00:01\r\u001b[K     |████████████████                | 153 kB 5.2 MB/s eta 0:00:01\r\u001b[K     |█████████████████               | 163 kB 5.2 MB/s eta 0:00:01\r\u001b[K     |██████████████████              | 174 kB 5.2 MB/s eta 0:00:01\r\u001b[K     |███████████████████▏            | 184 kB 5.2 MB/s eta 0:00:01\r\u001b[K     |████████████████████▏           | 194 kB 5.2 MB/s eta 0:00:01\r\u001b[K     |█████████████████████▎          | 204 kB 5.2 MB/s eta 0:00:01\r\u001b[K     |██████████████████████▎         | 215 kB 5.2 MB/s eta 0:00:01\r\u001b[K     |███████████████████████▍        | 225 kB 5.2 MB/s eta 0:00:01\r\u001b[K     |████████████████████████▌       | 235 kB 5.2 MB/s eta 0:00:01\r\u001b[K     |█████████████████████████▌      | 245 kB 5.2 MB/s eta 0:00:01\r\u001b[K     |██████████████████████████▋     | 256 kB 5.2 MB/s eta 0:00:01\r\u001b[K     |███████████████████████████▋    | 266 kB 5.2 MB/s eta 0:00:01\r\u001b[K     |████████████████████████████▊   | 276 kB 5.2 MB/s eta 0:00:01\r\u001b[K     |█████████████████████████████▊  | 286 kB 5.2 MB/s eta 0:00:01\r\u001b[K     |██████████████████████████████▉ | 296 kB 5.2 MB/s eta 0:00:01\r\u001b[K     |████████████████████████████████| 307 kB 5.2 MB/s eta 0:00:01\r\u001b[K     |████████████████████████████████| 308 kB 5.2 MB/s \n",
            "\u001b[?25hRequirement already satisfied: packaging>=20.0 in /usr/local/lib/python3.7/dist-packages (from optuna) (21.3)\n",
            "Requirement already satisfied: numpy in /usr/local/lib/python3.7/dist-packages (from optuna) (1.19.5)\n",
            "Collecting cmaes>=0.8.2\n",
            "  Downloading cmaes-0.8.2-py3-none-any.whl (15 kB)\n",
            "Requirement already satisfied: PyYAML in /usr/local/lib/python3.7/dist-packages (from optuna) (3.13)\n",
            "Requirement already satisfied: sqlalchemy>=1.1.0 in /usr/local/lib/python3.7/dist-packages (from optuna) (1.4.27)\n",
            "Requirement already satisfied: tqdm in /usr/local/lib/python3.7/dist-packages (from optuna) (4.62.3)\n",
            "Collecting colorlog\n",
            "  Downloading colorlog-6.6.0-py2.py3-none-any.whl (11 kB)\n",
            "Requirement already satisfied: scipy!=1.4.0 in /usr/local/lib/python3.7/dist-packages (from optuna) (1.4.1)\n",
            "Collecting cliff\n",
            "  Downloading cliff-3.10.0-py3-none-any.whl (80 kB)\n",
            "\u001b[K     |████████████████████████████████| 80 kB 8.2 MB/s \n",
            "\u001b[?25hCollecting alembic\n",
            "  Downloading alembic-1.7.5-py3-none-any.whl (209 kB)\n",
            "\u001b[K     |████████████████████████████████| 209 kB 47.4 MB/s \n",
            "\u001b[?25hRequirement already satisfied: pyparsing!=3.0.5,>=2.0.2 in /usr/local/lib/python3.7/dist-packages (from packaging>=20.0->optuna) (3.0.6)\n",
            "Requirement already satisfied: importlib-metadata in /usr/local/lib/python3.7/dist-packages (from sqlalchemy>=1.1.0->optuna) (4.8.2)\n",
            "Requirement already satisfied: greenlet!=0.4.17 in /usr/local/lib/python3.7/dist-packages (from sqlalchemy>=1.1.0->optuna) (1.1.2)\n",
            "Collecting Mako\n",
            "  Downloading Mako-1.1.6-py2.py3-none-any.whl (75 kB)\n",
            "\u001b[K     |████████████████████████████████| 75 kB 4.0 MB/s \n",
            "\u001b[?25hRequirement already satisfied: importlib-resources in /usr/local/lib/python3.7/dist-packages (from alembic->optuna) (5.4.0)\n",
            "Collecting pbr!=2.1.0,>=2.0.0\n",
            "  Downloading pbr-5.8.0-py2.py3-none-any.whl (112 kB)\n",
            "\u001b[K     |████████████████████████████████| 112 kB 47.4 MB/s \n",
            "\u001b[?25hCollecting stevedore>=2.0.1\n",
            "  Downloading stevedore-3.5.0-py3-none-any.whl (49 kB)\n",
            "\u001b[K     |████████████████████████████████| 49 kB 6.0 MB/s \n",
            "\u001b[?25hRequirement already satisfied: PrettyTable>=0.7.2 in /usr/local/lib/python3.7/dist-packages (from cliff->optuna) (2.4.0)\n",
            "Collecting autopage>=0.4.0\n",
            "  Downloading autopage-0.4.0-py3-none-any.whl (20 kB)\n",
            "Collecting cmd2>=1.0.0\n",
            "  Downloading cmd2-2.3.3-py3-none-any.whl (149 kB)\n",
            "\u001b[K     |████████████████████████████████| 149 kB 37.2 MB/s \n",
            "\u001b[?25hRequirement already satisfied: wcwidth>=0.1.7 in /usr/local/lib/python3.7/dist-packages (from cmd2>=1.0.0->cliff->optuna) (0.2.5)\n",
            "Collecting pyperclip>=1.6\n",
            "  Downloading pyperclip-1.8.2.tar.gz (20 kB)\n",
            "Requirement already satisfied: attrs>=16.3.0 in /usr/local/lib/python3.7/dist-packages (from cmd2>=1.0.0->cliff->optuna) (21.2.0)\n",
            "Requirement already satisfied: typing-extensions in /usr/local/lib/python3.7/dist-packages (from cmd2>=1.0.0->cliff->optuna) (3.10.0.2)\n",
            "Requirement already satisfied: zipp>=0.5 in /usr/local/lib/python3.7/dist-packages (from importlib-metadata->sqlalchemy>=1.1.0->optuna) (3.6.0)\n",
            "Requirement already satisfied: MarkupSafe>=0.9.2 in /usr/local/lib/python3.7/dist-packages (from Mako->alembic->optuna) (2.0.1)\n",
            "Building wheels for collected packages: pyperclip\n",
            "  Building wheel for pyperclip (setup.py) ... \u001b[?25l\u001b[?25hdone\n",
            "  Created wheel for pyperclip: filename=pyperclip-1.8.2-py3-none-any.whl size=11136 sha256=8a21f173e296320001be3cd2b27c8273d5e3871652be11c30ea86b848335218c\n",
            "  Stored in directory: /root/.cache/pip/wheels/9f/18/84/8f69f8b08169c7bae2dde6bd7daf0c19fca8c8e500ee620a28\n",
            "Successfully built pyperclip\n",
            "Installing collected packages: pyperclip, pbr, stevedore, Mako, cmd2, autopage, colorlog, cmaes, cliff, alembic, optuna\n",
            "Successfully installed Mako-1.1.6 alembic-1.7.5 autopage-0.4.0 cliff-3.10.0 cmaes-0.8.2 cmd2-2.3.3 colorlog-6.6.0 optuna-2.10.0 pbr-5.8.0 pyperclip-1.8.2 stevedore-3.5.0\n"
          ]
        }
      ]
    },
    {
      "cell_type": "code",
      "metadata": {
        "id": "rLj046aFc9UY"
      },
      "source": [
        "import pandas as pd\n",
        "import numpy as np\n",
        "import matplotlib.pyplot as plt\n",
        "import seaborn as sns\n",
        "import warnings\n",
        "warnings.filterwarnings('ignore')\n",
        "from tqdm import tqdm\n",
        "from scipy import stats"
      ],
      "execution_count": null,
      "outputs": []
    },
    {
      "cell_type": "code",
      "metadata": {
        "colab": {
          "base_uri": "https://localhost:8080/"
        },
        "id": "j9AQ5GtEaaz5",
        "outputId": "697477b8-ab2f-4956-8073-cfccb3235aa8"
      },
      "source": [
        "from google.colab import drive\n",
        "drive.mount('/content/drive')"
      ],
      "execution_count": null,
      "outputs": [
        {
          "output_type": "stream",
          "name": "stdout",
          "text": [
            "Mounted at /content/drive\n"
          ]
        }
      ]
    },
    {
      "cell_type": "code",
      "metadata": {
        "id": "SQQZ5LayciIb"
      },
      "source": [
        "train_df=pd.read_csv(\"/content/drive/MyDrive/Amex_data/Training Data_2021.csv\")\n",
        "test_df = pd.read_csv(\"/content/drive/MyDrive/Amex_data/Test Data_2021.csv\")\n",
        "train_df = train_df.replace([\"missing\",'na'],np.nan)\n",
        "test_df = test_df.replace([\"missing\",'na'],np.nan)\n",
        "\n",
        "train_df['mvar47'] = train_df['mvar47'].replace('C',0).replace('L',1)\n",
        "test_df['mvar47'] = test_df['mvar47'].replace('C',0).replace('L',1)\n",
        "\n",
        "train_df=train_df.astype('float')\n",
        "test_df=test_df.astype('float')\n",
        "\n",
        "import pandas as pd\n",
        "\n",
        "import numpy as np\n",
        "\n",
        "import matplotlib.pyplot as plt\n",
        "\n",
        "import seaborn as sns\n",
        "\n",
        "import warnings\n",
        "\n",
        "warnings.filterwarnings('ignore')\n",
        "\n",
        "from tqdm import tqdm\n",
        "\n",
        "from scipy import stats\n",
        "\n",
        "from xgboost import XGBClassifier\n",
        "\n",
        "from lightgbm import LGBMClassifier\n",
        "\n",
        "from sklearn.ensemble import VotingClassifier\n",
        "\n",
        "from sklearn.model_selection import cross_val_score, cross_validate\n",
        "\n",
        "\n",
        "train_df = train_df.drop(['application_key'],axis=1)\n",
        "\n",
        "test_df_copy = test_df.drop(['application_key'],axis=1)\n",
        "\n",
        "\n",
        "\n",
        "def rows_with_nan(df,thershold):\n",
        "\n",
        "    res = []\n",
        "\n",
        "    for s in df.index:\n",
        "\n",
        "        if df.loc[[s]].isna().sum().sum() >=thershold:\n",
        "\n",
        "            res.append(s)\n",
        "\n",
        "\n",
        "\n",
        "    return res\n",
        "\n",
        "\n",
        "\n",
        "train_nan_rows = rows_with_nan(train_df,40)\n",
        "\n",
        "#test_nan_rows = rows_with_nan(test_df_copy,40)\n",
        "\n",
        "train_df = train_df.drop(train_nan_rows,axis=0)\n",
        "\n",
        "\n",
        "\n",
        "X_train = train_df.iloc[:,train_df.columns!='default_ind']\n",
        "\n",
        "Y_train = train_df['default_ind']\n",
        "\n",
        "\n",
        "#cat doubt: mvar28\n",
        "\n",
        "#Cat_feat = ['mvar16','mvar17','mvar18','mvar19','mvar20','mvar28','mvar34','mvar35','mvar36','mvar37','mvar38','mvar39','mvar43','mvar45','mvar46','mvar47']\n",
        "\n",
        "cols = list(X_train.columns)\n",
        "\n",
        "cols.remove('mvar47')\n",
        "\n",
        "\n",
        "\n",
        "#filling missing values for 'mvar21','mvar22','mvar23','mvar24','mvar25','mvar26'\n",
        "\n",
        "#filling with mean/median\n",
        "\n",
        "#filling with knn\n",
        "\n",
        "#filling with mean\n",
        "\n",
        "for i in cols:\n",
        "\n",
        "    X_train[i] = X_train[i].fillna(value=X_train[i].mean())\n",
        "\n",
        "for i in cols:\n",
        "\n",
        "    test_df_copy[i] = test_df_copy[i].fillna(value=test_df_copy[i].mean())\n",
        "\n",
        "\n",
        "\n",
        "#replace outliners with upper and lower value\n",
        "\n",
        "for i in cols :\n",
        "\n",
        "    q1 = np.nanpercentile(X_train[i], 25)\n",
        "\n",
        "    q3 = np.nanpercentile(X_train[i], 75)\n",
        "\n",
        "    # print(q1, q3)\n",
        "\n",
        "    IQR = q3-q1\n",
        "\n",
        "    lwr_bound = q1-(1.5*IQR)\n",
        "\n",
        "    upr_bound = q3+(1.5*IQR)\n",
        "\n",
        "    tenth_per = np.nanpercentile(X_train[i], 10)\n",
        "\n",
        "    ninty_per = np.nanpercentile(X_train[i], 90)\n",
        "\n",
        "    X_train[i] = np.where(\n",
        "\n",
        "        X_train[i] > upr_bound,\n",
        "\n",
        "        ninty_per,\n",
        "\n",
        "        np.where(\n",
        "\n",
        "            X_train[i] < lwr_bound,\n",
        "\n",
        "            tenth_per,\n",
        "\n",
        "            X_train[i]\n",
        "\n",
        "        )\n",
        "\n",
        "    )\n",
        "\n",
        "for i in cols :\n",
        "\n",
        "    q1 = np.nanpercentile(test_df_copy[i], 25)\n",
        "\n",
        "    q3 = np.nanpercentile(test_df_copy[i], 75)\n",
        "\n",
        "    # print(q1, q3)\n",
        "\n",
        "    IQR = q3-q1\n",
        "\n",
        "    lwr_bound = q1-(1.5*IQR)\n",
        "\n",
        "    upr_bound = q3+(1.5*IQR)\n",
        "\n",
        "    tenth_per = np.nanpercentile(test_df_copy[i], 10)\n",
        "\n",
        "    ninty_per = np.nanpercentile(test_df_copy[i], 90)\n",
        "\n",
        "\n",
        "    test_df_copy[i] = np.where(\n",
        "\n",
        "        test_df_copy[i] > upr_bound,\n",
        "\n",
        "        ninty_per,\n",
        "\n",
        "        np.where(\n",
        "\n",
        "            test_df_copy[i] < lwr_bound,\n",
        "\n",
        "            tenth_per,\n",
        "\n",
        "            test_df_copy[i]\n",
        "\n",
        "        )\n",
        "\n",
        "    )\n"
      ],
      "execution_count": null,
      "outputs": []
    },
    {
      "cell_type": "code",
      "source": [
        "X_train = X_train.drop('mvar5',axis=1)\n",
        "test_df_copy = test_df_copy.drop('mvar5',axis=1)"
      ],
      "metadata": {
        "id": "WNS5U3mzQ-am"
      },
      "execution_count": null,
      "outputs": []
    },
    {
      "cell_type": "code",
      "source": [
        "cor_matrix_train=X_train.corr().abs()\n",
        "\n",
        "upper_tri_train = cor_matrix_train.where(np.triu(np.ones(cor_matrix_train.shape),k=1).astype(np.bool))\n",
        "\n",
        "cor_matrix_test=test_df_copy.corr().abs()\n",
        "\n",
        "upper_tri_test = cor_matrix_test.where(np.triu(np.ones(cor_matrix_test.shape),k=1).astype(np.bool))\n",
        "\n",
        "to_drop = [column for column in upper_tri_train.columns if any(upper_tri_train[column] > 0.7)]\n",
        "\n",
        "print(to_drop)\n",
        "\n",
        "to_drop = [column for column in upper_tri_test.columns if any(upper_tri_test[column] > 0.7)]\n",
        "\n",
        "print(to_drop)\n",
        "\n",
        "\n",
        "X_train = X_train.drop(to_drop,axis=1)\n",
        "\n",
        "test_df_copy=test_df_copy.drop(to_drop,axis=1)\n",
        "\n",
        "#normalizing the dataset\n",
        "\n",
        "for col in cols:\n",
        "\n",
        "    try:\n",
        "\n",
        "        X_train[col]=(X_train[col]-X_train[col].min())/(X_train[col].max()-X_train[col].min())\n",
        "\n",
        "    except KeyError:\n",
        "\n",
        "        pass\n",
        "\n",
        "#normalizing the dataset\n",
        "\n",
        "for col in cols:\n",
        "\n",
        "    try:\n",
        "\n",
        "        test_df_copy[col]=(test_df_copy[col]-test_df_copy[col].min())/(test_df_copy[col].max()-test_df_copy[col].min())\n",
        "\n",
        "    except KeyError:\n",
        "\n",
        "        pass"
      ],
      "metadata": {
        "colab": {
          "base_uri": "https://localhost:8080/"
        },
        "id": "saCCJYFHP-FB",
        "outputId": "a9641f2d-8eb7-49a7-eacd-69dc56da5376"
      },
      "execution_count": null,
      "outputs": [
        {
          "output_type": "stream",
          "name": "stdout",
          "text": [
            "['mvar10', 'mvar17', 'mvar18', 'mvar20', 'mvar23', 'mvar26', 'mvar27', 'mvar32', 'mvar37', 'mvar42']\n",
            "['mvar10', 'mvar17', 'mvar18', 'mvar20', 'mvar23', 'mvar26', 'mvar27', 'mvar32', 'mvar37', 'mvar42']\n"
          ]
        }
      ]
    },
    {
      "cell_type": "code",
      "metadata": {
        "id": "SQPOQFv-dI1i"
      },
      "source": [
        "\n",
        "\n"
      ],
      "execution_count": null,
      "outputs": []
    },
    {
      "cell_type": "code",
      "source": [],
      "metadata": {
        "id": "0oH3t74Mag5u"
      },
      "execution_count": null,
      "outputs": []
    },
    {
      "cell_type": "code",
      "source": [
        "# X_train = X_train.drop('application_key',axis=1)\n",
        "# test_df_copy = test_df.drop('application_key',axis=1)"
      ],
      "metadata": {
        "id": "uVjg1Bm8rHjV"
      },
      "execution_count": null,
      "outputs": []
    },
    {
      "cell_type": "code",
      "metadata": {
        "id": "aMziybsqdLbH"
      },
      "source": [
        "X_train = X_train.drop(['application_key','mvar11','mvar15','mvar22','mvar23','mvar30','mvar31','mvar40','mvar41'],axis=1)\n",
        "test_df_copy = test_df.drop(['application_key','mvar11','mvar15','mvar22','mvar23','mvar30','mvar31','mvar40','mvar41'],axis=1)"
      ],
      "execution_count": null,
      "outputs": []
    },
    {
      "cell_type": "code",
      "metadata": {
        "id": "nP2S6qJpdNjJ"
      },
      "source": [
        "Cat_feat = ['mvar16','mvar17','mvar18','mvar19','mvar20','mvar34','mvar35','mvar36','mvar37','mvar38','mvar39','mvar43','mvar45','mvar46','mvar47_C','mvar47_L']\n",
        "cols = list(X_train.columns)\n",
        "for i in Cat_feat:\n",
        "    cols.remove(i)"
      ],
      "execution_count": null,
      "outputs": []
    },
    {
      "cell_type": "code",
      "metadata": {
        "id": "SJimMA3vtczN"
      },
      "source": [
        "cols.remove('mvar4')\n",
        "cols.remove('mvar5')"
      ],
      "execution_count": null,
      "outputs": []
    },
    {
      "cell_type": "code",
      "metadata": {
        "id": "R-G3a248dT2y"
      },
      "source": [
        "#replace outliners with upper and lower value\n",
        "for i in cols :\n",
        "    q1 = np.nanpercentile(X_train[i], 25)\n",
        "    q3 = np.nanpercentile(X_train[i], 75)\n",
        "    # print(q1, q3)\n",
        "    IQR = q3-q1\n",
        "    lwr_bound = q1-(1.5*IQR)\n",
        "    upr_bound = q3+(1.5*IQR)\n",
        "    tenth_per = np.nanpercentile(X_train[i], 10)\n",
        "    ninty_per = np.nanpercentile(X_train[i], 90)\n",
        "\n",
        "    X_train[i] = np.where(\n",
        "        X_train[i] > upr_bound,\n",
        "        ninty_per,\n",
        "        np.where(\n",
        "            X_train[i] < lwr_bound,\n",
        "            tenth_per,\n",
        "            X_train[i]\n",
        "        )\n",
        "    )"
      ],
      "execution_count": null,
      "outputs": []
    },
    {
      "cell_type": "code",
      "metadata": {
        "id": "UyLAWF6DdW7G"
      },
      "source": [
        "for i in cols :\n",
        "    q1 = np.nanpercentile(test_df_copy[i], 25)\n",
        "    q3 = np.nanpercentile(test_df_copy[i], 75)\n",
        "    # print(q1, q3)\n",
        "    IQR = q3-q1\n",
        "    lwr_bound = q1-(1.5*IQR)\n",
        "    upr_bound = q3+(1.5*IQR)\n",
        "    tenth_per = np.nanpercentile(test_df_copy[i], 10)\n",
        "    ninty_per = np.nanpercentile(test_df_copy[i], 90)\n",
        "\n",
        "    test_df_copy[i] = np.where(\n",
        "        test_df_copy[i] > upr_bound,\n",
        "        ninty_per,\n",
        "        np.where(\n",
        "            test_df_copy[i] < lwr_bound,\n",
        "            tenth_per,\n",
        "            test_df_copy[i]\n",
        "        )\n",
        "    )"
      ],
      "execution_count": null,
      "outputs": []
    },
    {
      "cell_type": "code",
      "metadata": {
        "id": "s4CMklUOvN0O"
      },
      "source": [],
      "execution_count": null,
      "outputs": []
    },
    {
      "cell_type": "code",
      "metadata": {
        "id": "pfj_WhCvdYU5"
      },
      "source": [
        "#filling missing values for 'mvar21','mvar22','mvar23','mvar24','mvar25','mvar26'\n",
        "#filling with mean/median\n",
        "#filling with knn\n",
        "#filling with mean\n",
        "for i in cols+['mvar4','mvar5']:\n",
        "    X_train[i] = X_train[i].fillna(method='ffill')\n",
        "for i in cols+['mvar4','mvar5']:\n",
        "    test_df_copy[i] = test_df_copy[i].fillna(method='ffill')"
      ],
      "execution_count": null,
      "outputs": []
    },
    {
      "cell_type": "code",
      "metadata": {
        "colab": {
          "base_uri": "https://localhost:8080/",
          "height": 226
        },
        "id": "CrOiOp8cdahe",
        "outputId": "3187f132-b850-44e6-8999-2f665802235c"
      },
      "source": [
        "X_train.tail()"
      ],
      "execution_count": null,
      "outputs": [
        {
          "output_type": "execute_result",
          "data": {
            "text/html": [
              "<div>\n",
              "<style scoped>\n",
              "    .dataframe tbody tr th:only-of-type {\n",
              "        vertical-align: middle;\n",
              "    }\n",
              "\n",
              "    .dataframe tbody tr th {\n",
              "        vertical-align: top;\n",
              "    }\n",
              "\n",
              "    .dataframe thead th {\n",
              "        text-align: right;\n",
              "    }\n",
              "</style>\n",
              "<table border=\"1\" class=\"dataframe\">\n",
              "  <thead>\n",
              "    <tr style=\"text-align: right;\">\n",
              "      <th></th>\n",
              "      <th>mvar1</th>\n",
              "      <th>mvar2</th>\n",
              "      <th>mvar3</th>\n",
              "      <th>mvar4</th>\n",
              "      <th>mvar5</th>\n",
              "      <th>mvar6</th>\n",
              "      <th>mvar7</th>\n",
              "      <th>mvar8</th>\n",
              "      <th>mvar9</th>\n",
              "      <th>mvar10</th>\n",
              "      <th>mvar12</th>\n",
              "      <th>mvar13</th>\n",
              "      <th>mvar14</th>\n",
              "      <th>mvar16</th>\n",
              "      <th>mvar17</th>\n",
              "      <th>mvar18</th>\n",
              "      <th>mvar19</th>\n",
              "      <th>mvar20</th>\n",
              "      <th>mvar21</th>\n",
              "      <th>mvar24</th>\n",
              "      <th>mvar25</th>\n",
              "      <th>mvar26</th>\n",
              "      <th>mvar27</th>\n",
              "      <th>mvar28</th>\n",
              "      <th>mvar29</th>\n",
              "      <th>mvar32</th>\n",
              "      <th>mvar33</th>\n",
              "      <th>mvar34</th>\n",
              "      <th>mvar35</th>\n",
              "      <th>mvar36</th>\n",
              "      <th>mvar37</th>\n",
              "      <th>mvar38</th>\n",
              "      <th>mvar39</th>\n",
              "      <th>mvar42</th>\n",
              "      <th>mvar43</th>\n",
              "      <th>mvar44</th>\n",
              "      <th>mvar45</th>\n",
              "      <th>mvar46</th>\n",
              "      <th>mvar47_C</th>\n",
              "      <th>mvar47_L</th>\n",
              "    </tr>\n",
              "  </thead>\n",
              "  <tbody>\n",
              "    <tr>\n",
              "      <th>82995</th>\n",
              "      <td>1748.0</td>\n",
              "      <td>0.3044</td>\n",
              "      <td>0.0</td>\n",
              "      <td>0.0</td>\n",
              "      <td>0.0</td>\n",
              "      <td>0.0</td>\n",
              "      <td>20114.0</td>\n",
              "      <td>5574.0</td>\n",
              "      <td>77386.0</td>\n",
              "      <td>81647.0</td>\n",
              "      <td>18228.9</td>\n",
              "      <td>38049.0</td>\n",
              "      <td>148650.0</td>\n",
              "      <td>1.0</td>\n",
              "      <td>1.0</td>\n",
              "      <td>1.0</td>\n",
              "      <td>3.0</td>\n",
              "      <td>4.0</td>\n",
              "      <td>98.702</td>\n",
              "      <td>90.11</td>\n",
              "      <td>3219.0</td>\n",
              "      <td>8091.0</td>\n",
              "      <td>8091.0</td>\n",
              "      <td>30.0</td>\n",
              "      <td>8091.0</td>\n",
              "      <td>635.0</td>\n",
              "      <td>16.0833</td>\n",
              "      <td>0.0</td>\n",
              "      <td>0.0</td>\n",
              "      <td>11.0</td>\n",
              "      <td>3.0</td>\n",
              "      <td>4.0</td>\n",
              "      <td>0.0</td>\n",
              "      <td>0.04348</td>\n",
              "      <td>13.0</td>\n",
              "      <td>0.48002</td>\n",
              "      <td>0.0</td>\n",
              "      <td>0.0</td>\n",
              "      <td>0.0</td>\n",
              "      <td>1.0</td>\n",
              "    </tr>\n",
              "    <tr>\n",
              "      <th>82996</th>\n",
              "      <td>1846.0</td>\n",
              "      <td>0.3044</td>\n",
              "      <td>0.0</td>\n",
              "      <td>0.0</td>\n",
              "      <td>0.0</td>\n",
              "      <td>793.0</td>\n",
              "      <td>18608.0</td>\n",
              "      <td>18608.0</td>\n",
              "      <td>63820.0</td>\n",
              "      <td>29187.0</td>\n",
              "      <td>7863.0</td>\n",
              "      <td>38049.0</td>\n",
              "      <td>79280.0</td>\n",
              "      <td>0.0</td>\n",
              "      <td>0.0</td>\n",
              "      <td>0.0</td>\n",
              "      <td>0.0</td>\n",
              "      <td>0.0</td>\n",
              "      <td>19.885</td>\n",
              "      <td>17.27</td>\n",
              "      <td>3207.0</td>\n",
              "      <td>2342.0</td>\n",
              "      <td>2342.0</td>\n",
              "      <td>1004.0</td>\n",
              "      <td>7969.0</td>\n",
              "      <td>949.0</td>\n",
              "      <td>21.3333</td>\n",
              "      <td>0.0</td>\n",
              "      <td>-1.0</td>\n",
              "      <td>2.0</td>\n",
              "      <td>6.0</td>\n",
              "      <td>1.0</td>\n",
              "      <td>0.0</td>\n",
              "      <td>0.00000</td>\n",
              "      <td>5.0</td>\n",
              "      <td>0.46925</td>\n",
              "      <td>-1.0</td>\n",
              "      <td>0.0</td>\n",
              "      <td>0.0</td>\n",
              "      <td>1.0</td>\n",
              "    </tr>\n",
              "    <tr>\n",
              "      <th>82997</th>\n",
              "      <td>1907.0</td>\n",
              "      <td>0.0381</td>\n",
              "      <td>0.0</td>\n",
              "      <td>0.0</td>\n",
              "      <td>0.0</td>\n",
              "      <td>2478.0</td>\n",
              "      <td>24775.0</td>\n",
              "      <td>19820.0</td>\n",
              "      <td>100294.0</td>\n",
              "      <td>79483.0</td>\n",
              "      <td>2968.0</td>\n",
              "      <td>38049.0</td>\n",
              "      <td>99100.0</td>\n",
              "      <td>0.0</td>\n",
              "      <td>0.0</td>\n",
              "      <td>0.0</td>\n",
              "      <td>0.0</td>\n",
              "      <td>0.0</td>\n",
              "      <td>9.967</td>\n",
              "      <td>3.54</td>\n",
              "      <td>2038.0</td>\n",
              "      <td>5049.0</td>\n",
              "      <td>5049.0</td>\n",
              "      <td>30386.0</td>\n",
              "      <td>5536.0</td>\n",
              "      <td>938.0</td>\n",
              "      <td>4.5833</td>\n",
              "      <td>0.0</td>\n",
              "      <td>-1.0</td>\n",
              "      <td>14.0</td>\n",
              "      <td>8.0</td>\n",
              "      <td>0.0</td>\n",
              "      <td>0.0</td>\n",
              "      <td>0.00000</td>\n",
              "      <td>19.0</td>\n",
              "      <td>0.67960</td>\n",
              "      <td>-1.0</td>\n",
              "      <td>0.0</td>\n",
              "      <td>0.0</td>\n",
              "      <td>1.0</td>\n",
              "    </tr>\n",
              "    <tr>\n",
              "      <th>82998</th>\n",
              "      <td>1744.0</td>\n",
              "      <td>1.8301</td>\n",
              "      <td>0.0</td>\n",
              "      <td>0.0</td>\n",
              "      <td>0.0</td>\n",
              "      <td>496.0</td>\n",
              "      <td>917.0</td>\n",
              "      <td>496.0</td>\n",
              "      <td>92071.2</td>\n",
              "      <td>2218.0</td>\n",
              "      <td>656.0</td>\n",
              "      <td>4108.0</td>\n",
              "      <td>9910.0</td>\n",
              "      <td>0.0</td>\n",
              "      <td>0.0</td>\n",
              "      <td>0.0</td>\n",
              "      <td>1.0</td>\n",
              "      <td>1.0</td>\n",
              "      <td>9.967</td>\n",
              "      <td>17.70</td>\n",
              "      <td>2488.0</td>\n",
              "      <td>5445.0</td>\n",
              "      <td>5445.0</td>\n",
              "      <td>760.0</td>\n",
              "      <td>6631.0</td>\n",
              "      <td>1139.0</td>\n",
              "      <td>1.5833</td>\n",
              "      <td>0.0</td>\n",
              "      <td>-1.0</td>\n",
              "      <td>1.0</td>\n",
              "      <td>22.0</td>\n",
              "      <td>4.0</td>\n",
              "      <td>0.0</td>\n",
              "      <td>0.09375</td>\n",
              "      <td>3.0</td>\n",
              "      <td>0.45317</td>\n",
              "      <td>-1.0</td>\n",
              "      <td>0.0</td>\n",
              "      <td>0.0</td>\n",
              "      <td>1.0</td>\n",
              "    </tr>\n",
              "    <tr>\n",
              "      <th>82999</th>\n",
              "      <td>1832.0</td>\n",
              "      <td>1.5561</td>\n",
              "      <td>0.0</td>\n",
              "      <td>0.0</td>\n",
              "      <td>0.0</td>\n",
              "      <td>1016.0</td>\n",
              "      <td>7928.0</td>\n",
              "      <td>7928.0</td>\n",
              "      <td>92071.2</td>\n",
              "      <td>58977.0</td>\n",
              "      <td>19548.0</td>\n",
              "      <td>38049.0</td>\n",
              "      <td>208110.0</td>\n",
              "      <td>0.0</td>\n",
              "      <td>0.0</td>\n",
              "      <td>0.0</td>\n",
              "      <td>1.0</td>\n",
              "      <td>1.0</td>\n",
              "      <td>44.752</td>\n",
              "      <td>17.92</td>\n",
              "      <td>2390.0</td>\n",
              "      <td>7026.0</td>\n",
              "      <td>7026.0</td>\n",
              "      <td>30386.0</td>\n",
              "      <td>10098.0</td>\n",
              "      <td>1257.0</td>\n",
              "      <td>0.1667</td>\n",
              "      <td>0.0</td>\n",
              "      <td>0.0</td>\n",
              "      <td>7.0</td>\n",
              "      <td>9.0</td>\n",
              "      <td>10.0</td>\n",
              "      <td>0.0</td>\n",
              "      <td>0.00000</td>\n",
              "      <td>18.0</td>\n",
              "      <td>0.83278</td>\n",
              "      <td>0.0</td>\n",
              "      <td>0.0</td>\n",
              "      <td>0.0</td>\n",
              "      <td>1.0</td>\n",
              "    </tr>\n",
              "  </tbody>\n",
              "</table>\n",
              "</div>"
            ],
            "text/plain": [
              "        mvar1   mvar2  mvar3  mvar4  ...  mvar45  mvar46  mvar47_C  mvar47_L\n",
              "82995  1748.0  0.3044    0.0    0.0  ...     0.0     0.0       0.0       1.0\n",
              "82996  1846.0  0.3044    0.0    0.0  ...    -1.0     0.0       0.0       1.0\n",
              "82997  1907.0  0.0381    0.0    0.0  ...    -1.0     0.0       0.0       1.0\n",
              "82998  1744.0  1.8301    0.0    0.0  ...    -1.0     0.0       0.0       1.0\n",
              "82999  1832.0  1.5561    0.0    0.0  ...     0.0     0.0       0.0       1.0\n",
              "\n",
              "[5 rows x 40 columns]"
            ]
          },
          "metadata": {},
          "execution_count": 13
        }
      ]
    },
    {
      "cell_type": "code",
      "metadata": {
        "id": "3bIyidWcdftM"
      },
      "source": [
        "# from statsmodels.stats.outliers_influence import variance_inflation_factor\n",
        "\n",
        "# def calc_vif(X):\n",
        "\n",
        "#     # Calculating VIF\n",
        "#     vif = pd.DataFrame()\n",
        "#     vif[\"variables\"] = X.columns\n",
        "#     vif[\"VIF\"] = [variance_inflation_factor(X.values, i) for i in range(X.shape[1])]\n",
        "\n",
        "#     return(vif)\n",
        "# vifs = calc_vif(X_train)"
      ],
      "execution_count": null,
      "outputs": []
    },
    {
      "cell_type": "code",
      "metadata": {
        "id": "Z_vcP-05euL6"
      },
      "source": [
        "cor_matrix=X_train.corr().abs()\n",
        "upper_tri = cor_matrix.where(np.triu(np.ones(cor_matrix.shape),k=1).astype(np.bool))"
      ],
      "execution_count": null,
      "outputs": []
    },
    {
      "cell_type": "code",
      "metadata": {
        "colab": {
          "base_uri": "https://localhost:8080/"
        },
        "id": "hWC4oyIrfcEZ",
        "outputId": "a56f4d00-cfda-4aa6-fa90-11f436e4f798"
      },
      "source": [
        "to_drop = [column for column in upper_tri.columns if any(upper_tri[column] > 0.7)]\n",
        "print(to_drop)"
      ],
      "execution_count": null,
      "outputs": [
        {
          "output_type": "stream",
          "name": "stdout",
          "text": [
            "['mvar10', 'mvar17', 'mvar18', 'mvar20', 'mvar27', 'mvar32', 'mvar37', 'mvar42', 'mvar47_L']\n"
          ]
        }
      ]
    },
    {
      "cell_type": "code",
      "metadata": {
        "id": "2CYREVpUf2Ld"
      },
      "source": [
        "X_train = X_train.drop(to_drop,axis=1)\n",
        "test_df_copy=test_df_copy.drop(to_drop,axis=1)"
      ],
      "execution_count": null,
      "outputs": []
    },
    {
      "cell_type": "code",
      "metadata": {
        "colab": {
          "base_uri": "https://localhost:8080/"
        },
        "id": "cI5ehzeJf5M7",
        "outputId": "28415cb8-5f41-4b7d-b652-ac5da740cef5"
      },
      "source": [
        "X_train.shape, test_df_copy.shape"
      ],
      "execution_count": null,
      "outputs": [
        {
          "output_type": "execute_result",
          "data": {
            "text/plain": [
              "((83000, 31), (47000, 31))"
            ]
          },
          "metadata": {},
          "execution_count": 17
        }
      ]
    },
    {
      "cell_type": "code",
      "source": [],
      "metadata": {
        "id": "HlSJWbtGmytn"
      },
      "execution_count": null,
      "outputs": []
    },
    {
      "cell_type": "code",
      "metadata": {
        "id": "fPKCA0jyhW0y"
      },
      "source": [
        "#normalizing the dataset\n",
        "for col in cols+['mvar4','mvar5']:\n",
        "  try:\n",
        "    X_train[col]=(X_train[col]-X_train[col].min())/(X_train[col].max()-X_train[col].min())\n",
        "  except KeyError:\n",
        "    pass"
      ],
      "execution_count": null,
      "outputs": []
    },
    {
      "cell_type": "code",
      "metadata": {
        "id": "jhtu8AyRh0Ul"
      },
      "source": [
        "#normalizing the dataset\n",
        "for col in cols+['mvar4','mvar5']:\n",
        "  try:\n",
        "    test_df_copy[col]=(test_df_copy[col]-test_df_copy[col].min())/(test_df_copy[col].max()-test_df_copy[col].min())\n",
        "  except KeyError:\n",
        "    pass"
      ],
      "execution_count": null,
      "outputs": []
    },
    {
      "cell_type": "code",
      "metadata": {
        "id": "9WKw1wIBg2Vy"
      },
      "source": [
        "#Logistic Regression\n",
        "from sklearn.linear_model import LogisticRegression\n",
        "from sklearn.model_selection import train_test_split, cross_val_score\n",
        "from sklearn.metrics import confusion_matrix,accuracy_score,recall_score,precision_score,f1_score,balanced_accuracy_score\n",
        "#mytrain = mytrain.drop(['mvar22','mvar23','mvar25'],axis=1)\n",
        "X = X_train\n",
        "Y = Y_train\n",
        "x_train,x_test,y_train,y_test=train_test_split(X,Y,test_size=0.3,random_state=42)"
      ],
      "execution_count": null,
      "outputs": []
    },
    {
      "cell_type": "code",
      "metadata": {
        "colab": {
          "base_uri": "https://localhost:8080/"
        },
        "id": "x_n9lkTzjQW8",
        "outputId": "83794d2d-7bcf-47e7-e1f3-adfd4a406df2"
      },
      "source": [
        "x_train.shape,y_train.shape,x_test.shape,y_test.shape"
      ],
      "execution_count": null,
      "outputs": [
        {
          "output_type": "execute_result",
          "data": {
            "text/plain": [
              "((57725, 36), (57725,), (24740, 36), (24740,))"
            ]
          },
          "metadata": {},
          "execution_count": 25
        }
      ]
    },
    {
      "cell_type": "code",
      "metadata": {
        "colab": {
          "base_uri": "https://localhost:8080/"
        },
        "id": "F1lyi5SyjWe3",
        "outputId": "455b8777-7560-4bed-eee9-b03d6980a5b7"
      },
      "source": [
        "# lr = LogisticRegression()\n",
        "# lr.fit(x_train,y_train)\n",
        "# preds = lr.predict(x_test)\n",
        "# print(\"confusion matrix:\",confusion_matrix(y_test,preds))\n",
        "# print(\"accuracy_score:\",accuracy_score(y_test,preds))\n",
        "# print(\"recall_score:\",recall_score(y_test,preds))\n",
        "# print(\"f1_score:\",f1_score(y_test,preds))\n",
        "# print(\"precision_score:\",precision_score(y_test,preds))\n",
        "# print(\"balanced_accuracy_score:\",balanced_accuracy_score(y_test,preds))"
      ],
      "execution_count": null,
      "outputs": [
        {
          "output_type": "stream",
          "name": "stdout",
          "text": [
            "confusion matrix: [[16229  1525]\n",
            " [ 4255  2891]]\n",
            "accuracy_score: 0.7678714859437751\n",
            "recall_score: 0.4045619927232018\n",
            "f1_score: 0.5000864902266045\n",
            "precision_score: 0.6546648550724637\n",
            "balanced_accuracy_score: 0.6593329283205961\n"
          ]
        }
      ]
    },
    {
      "cell_type": "code",
      "metadata": {
        "colab": {
          "base_uri": "https://localhost:8080/"
        },
        "id": "y0bIvFPdpwtS",
        "outputId": "b6fef41e-349f-4356-e38c-a5db33d48365"
      },
      "source": [
        "# preds1 = lr.predict(x_train)\n",
        "# print(\"confusion matrix:\",confusion_matrix(y_train,preds1))\n",
        "# print(\"accuracy_score:\",accuracy_score(y_train,preds1))\n",
        "# print(\"recall_score:\",recall_score(y_train,preds1))\n",
        "# print(\"f1_score:\",f1_score(y_train,preds1))\n",
        "# print(\"precision_score:\",precision_score(y_train,preds1))\n",
        "# print(\"balanced_accuracy_score:\",balanced_accuracy_score(y_train,preds1))"
      ],
      "execution_count": null,
      "outputs": [
        {
          "output_type": "stream",
          "name": "stdout",
          "text": [
            "confusion matrix: [[37872  3519]\n",
            " [10133  6576]]\n",
            "accuracy_score: 0.765025817555938\n",
            "recall_score: 0.39356035669399725\n",
            "f1_score: 0.49067303387554095\n",
            "precision_score: 0.6514115898959881\n",
            "balanced_accuracy_score: 0.6542709372076205\n"
          ]
        }
      ]
    },
    {
      "cell_type": "markdown",
      "metadata": {
        "id": "lli6_Rgjxi8r"
      },
      "source": [
        "## Using Xgboost"
      ]
    },
    {
      "cell_type": "code",
      "source": [
        "#Logistic Regression\n",
        "from sklearn.linear_model import LogisticRegression\n",
        "from sklearn.model_selection import train_test_split, cross_val_score\n",
        "from sklearn.metrics import confusion_matrix,accuracy_score,recall_score,precision_score,f1_score,balanced_accuracy_score\n",
        "#mytrain = mytrain.drop(['mvar22','mvar23','mvar25'],axis=1)\n",
        "X = X_train\n",
        "Y = Y_train\n",
        "x_train,x_test,y_train,y_test=train_test_split(X,Y,test_size=0.3,random_state=42)"
      ],
      "metadata": {
        "id": "6pifnNwqQnE6"
      },
      "execution_count": null,
      "outputs": []
    },
    {
      "cell_type": "code",
      "source": [
        "X"
      ],
      "metadata": {
        "colab": {
          "base_uri": "https://localhost:8080/",
          "height": 444
        },
        "id": "HkkMGxB1QzQc",
        "outputId": "419ad33e-b861-4e70-9477-6616b3c7faf8"
      },
      "execution_count": null,
      "outputs": [
        {
          "output_type": "execute_result",
          "data": {
            "text/html": [
              "<div>\n",
              "<style scoped>\n",
              "    .dataframe tbody tr th:only-of-type {\n",
              "        vertical-align: middle;\n",
              "    }\n",
              "\n",
              "    .dataframe tbody tr th {\n",
              "        vertical-align: top;\n",
              "    }\n",
              "\n",
              "    .dataframe thead th {\n",
              "        text-align: right;\n",
              "    }\n",
              "</style>\n",
              "<table border=\"1\" class=\"dataframe\">\n",
              "  <thead>\n",
              "    <tr style=\"text-align: right;\">\n",
              "      <th></th>\n",
              "      <th>mvar1</th>\n",
              "      <th>mvar2</th>\n",
              "      <th>mvar3</th>\n",
              "      <th>mvar4</th>\n",
              "      <th>mvar6</th>\n",
              "      <th>mvar7</th>\n",
              "      <th>mvar8</th>\n",
              "      <th>mvar9</th>\n",
              "      <th>mvar11</th>\n",
              "      <th>mvar12</th>\n",
              "      <th>mvar13</th>\n",
              "      <th>mvar14</th>\n",
              "      <th>mvar15</th>\n",
              "      <th>mvar16</th>\n",
              "      <th>mvar19</th>\n",
              "      <th>mvar21</th>\n",
              "      <th>mvar22</th>\n",
              "      <th>mvar24</th>\n",
              "      <th>mvar25</th>\n",
              "      <th>mvar28</th>\n",
              "      <th>mvar29</th>\n",
              "      <th>mvar30</th>\n",
              "      <th>mvar31</th>\n",
              "      <th>mvar33</th>\n",
              "      <th>mvar34</th>\n",
              "      <th>mvar35</th>\n",
              "      <th>mvar36</th>\n",
              "      <th>mvar38</th>\n",
              "      <th>mvar39</th>\n",
              "      <th>mvar40</th>\n",
              "      <th>mvar41</th>\n",
              "      <th>mvar43</th>\n",
              "      <th>mvar44</th>\n",
              "      <th>mvar45</th>\n",
              "      <th>mvar46</th>\n",
              "      <th>mvar47</th>\n",
              "    </tr>\n",
              "  </thead>\n",
              "  <tbody>\n",
              "    <tr>\n",
              "      <th>0</th>\n",
              "      <td>0.441758</td>\n",
              "      <td>0.543290</td>\n",
              "      <td>0.000000</td>\n",
              "      <td>0.0</td>\n",
              "      <td>0.000000</td>\n",
              "      <td>0.147850</td>\n",
              "      <td>0.018620</td>\n",
              "      <td>0.470326</td>\n",
              "      <td>0.538781</td>\n",
              "      <td>0.402656</td>\n",
              "      <td>0.081948</td>\n",
              "      <td>0.531392</td>\n",
              "      <td>0.625034</td>\n",
              "      <td>1.000000</td>\n",
              "      <td>1.000000</td>\n",
              "      <td>0.717720</td>\n",
              "      <td>0.916641</td>\n",
              "      <td>0.477150</td>\n",
              "      <td>0.340554</td>\n",
              "      <td>0.002008</td>\n",
              "      <td>0.340957</td>\n",
              "      <td>0.000000</td>\n",
              "      <td>0.000000</td>\n",
              "      <td>0.044985</td>\n",
              "      <td>1.0</td>\n",
              "      <td>0.0</td>\n",
              "      <td>0.500000</td>\n",
              "      <td>0.333333</td>\n",
              "      <td>1.0</td>\n",
              "      <td>0.0</td>\n",
              "      <td>1.000000</td>\n",
              "      <td>0.454545</td>\n",
              "      <td>0.615677</td>\n",
              "      <td>1.0</td>\n",
              "      <td>0.0</td>\n",
              "      <td>0.0</td>\n",
              "    </tr>\n",
              "    <tr>\n",
              "      <th>1</th>\n",
              "      <td>0.771429</td>\n",
              "      <td>0.265881</td>\n",
              "      <td>0.000000</td>\n",
              "      <td>0.0</td>\n",
              "      <td>0.025895</td>\n",
              "      <td>0.185139</td>\n",
              "      <td>0.183371</td>\n",
              "      <td>0.212438</td>\n",
              "      <td>0.538781</td>\n",
              "      <td>0.047958</td>\n",
              "      <td>0.051595</td>\n",
              "      <td>0.182799</td>\n",
              "      <td>0.625034</td>\n",
              "      <td>0.000000</td>\n",
              "      <td>0.000000</td>\n",
              "      <td>0.562065</td>\n",
              "      <td>0.097207</td>\n",
              "      <td>0.031700</td>\n",
              "      <td>0.239460</td>\n",
              "      <td>1.000000</td>\n",
              "      <td>0.171607</td>\n",
              "      <td>0.549339</td>\n",
              "      <td>0.000000</td>\n",
              "      <td>0.013844</td>\n",
              "      <td>0.0</td>\n",
              "      <td>0.0</td>\n",
              "      <td>0.500000</td>\n",
              "      <td>0.166667</td>\n",
              "      <td>0.0</td>\n",
              "      <td>1.0</td>\n",
              "      <td>0.289101</td>\n",
              "      <td>0.590909</td>\n",
              "      <td>0.615006</td>\n",
              "      <td>1.0</td>\n",
              "      <td>1.0</td>\n",
              "      <td>1.0</td>\n",
              "    </tr>\n",
              "    <tr>\n",
              "      <th>2</th>\n",
              "      <td>0.549451</td>\n",
              "      <td>0.131413</td>\n",
              "      <td>0.000000</td>\n",
              "      <td>0.0</td>\n",
              "      <td>0.414681</td>\n",
              "      <td>0.062336</td>\n",
              "      <td>0.394519</td>\n",
              "      <td>0.396479</td>\n",
              "      <td>0.538781</td>\n",
              "      <td>0.437280</td>\n",
              "      <td>0.414025</td>\n",
              "      <td>0.326488</td>\n",
              "      <td>0.625034</td>\n",
              "      <td>0.217686</td>\n",
              "      <td>0.000000</td>\n",
              "      <td>0.433571</td>\n",
              "      <td>0.443419</td>\n",
              "      <td>0.466520</td>\n",
              "      <td>0.412352</td>\n",
              "      <td>0.022017</td>\n",
              "      <td>0.347803</td>\n",
              "      <td>1.000000</td>\n",
              "      <td>0.629477</td>\n",
              "      <td>0.733563</td>\n",
              "      <td>0.0</td>\n",
              "      <td>1.0</td>\n",
              "      <td>0.000000</td>\n",
              "      <td>0.083333</td>\n",
              "      <td>0.0</td>\n",
              "      <td>0.0</td>\n",
              "      <td>0.000000</td>\n",
              "      <td>0.045455</td>\n",
              "      <td>1.000000</td>\n",
              "      <td>1.0</td>\n",
              "      <td>0.0</td>\n",
              "      <td>0.0</td>\n",
              "    </tr>\n",
              "    <tr>\n",
              "      <th>3</th>\n",
              "      <td>0.536264</td>\n",
              "      <td>0.072029</td>\n",
              "      <td>0.000000</td>\n",
              "      <td>0.0</td>\n",
              "      <td>0.503173</td>\n",
              "      <td>0.649903</td>\n",
              "      <td>0.286535</td>\n",
              "      <td>0.236695</td>\n",
              "      <td>0.538781</td>\n",
              "      <td>0.000000</td>\n",
              "      <td>0.000000</td>\n",
              "      <td>0.361347</td>\n",
              "      <td>0.625034</td>\n",
              "      <td>0.000000</td>\n",
              "      <td>0.000000</td>\n",
              "      <td>0.433571</td>\n",
              "      <td>0.000000</td>\n",
              "      <td>0.000000</td>\n",
              "      <td>0.304682</td>\n",
              "      <td>0.002995</td>\n",
              "      <td>0.450797</td>\n",
              "      <td>0.549339</td>\n",
              "      <td>1.000000</td>\n",
              "      <td>0.425604</td>\n",
              "      <td>0.0</td>\n",
              "      <td>0.0</td>\n",
              "      <td>0.142857</td>\n",
              "      <td>0.166667</td>\n",
              "      <td>0.0</td>\n",
              "      <td>0.0</td>\n",
              "      <td>0.289101</td>\n",
              "      <td>0.136364</td>\n",
              "      <td>0.502214</td>\n",
              "      <td>0.0</td>\n",
              "      <td>0.0</td>\n",
              "      <td>1.0</td>\n",
              "    </tr>\n",
              "    <tr>\n",
              "      <th>4</th>\n",
              "      <td>0.641758</td>\n",
              "      <td>0.003876</td>\n",
              "      <td>0.013201</td>\n",
              "      <td>0.0</td>\n",
              "      <td>0.930693</td>\n",
              "      <td>0.135044</td>\n",
              "      <td>0.317704</td>\n",
              "      <td>0.093054</td>\n",
              "      <td>0.538781</td>\n",
              "      <td>0.141491</td>\n",
              "      <td>0.743200</td>\n",
              "      <td>0.531392</td>\n",
              "      <td>0.980528</td>\n",
              "      <td>0.000000</td>\n",
              "      <td>0.000000</td>\n",
              "      <td>0.154617</td>\n",
              "      <td>0.081256</td>\n",
              "      <td>0.189671</td>\n",
              "      <td>0.186583</td>\n",
              "      <td>0.016027</td>\n",
              "      <td>0.203656</td>\n",
              "      <td>0.549339</td>\n",
              "      <td>0.000000</td>\n",
              "      <td>0.034605</td>\n",
              "      <td>0.0</td>\n",
              "      <td>0.0</td>\n",
              "      <td>0.071429</td>\n",
              "      <td>0.166667</td>\n",
              "      <td>0.0</td>\n",
              "      <td>1.0</td>\n",
              "      <td>0.289101</td>\n",
              "      <td>0.045455</td>\n",
              "      <td>0.921913</td>\n",
              "      <td>1.0</td>\n",
              "      <td>1.0</td>\n",
              "      <td>1.0</td>\n",
              "    </tr>\n",
              "    <tr>\n",
              "      <th>...</th>\n",
              "      <td>...</td>\n",
              "      <td>...</td>\n",
              "      <td>...</td>\n",
              "      <td>...</td>\n",
              "      <td>...</td>\n",
              "      <td>...</td>\n",
              "      <td>...</td>\n",
              "      <td>...</td>\n",
              "      <td>...</td>\n",
              "      <td>...</td>\n",
              "      <td>...</td>\n",
              "      <td>...</td>\n",
              "      <td>...</td>\n",
              "      <td>...</td>\n",
              "      <td>...</td>\n",
              "      <td>...</td>\n",
              "      <td>...</td>\n",
              "      <td>...</td>\n",
              "      <td>...</td>\n",
              "      <td>...</td>\n",
              "      <td>...</td>\n",
              "      <td>...</td>\n",
              "      <td>...</td>\n",
              "      <td>...</td>\n",
              "      <td>...</td>\n",
              "      <td>...</td>\n",
              "      <td>...</td>\n",
              "      <td>...</td>\n",
              "      <td>...</td>\n",
              "      <td>...</td>\n",
              "      <td>...</td>\n",
              "      <td>...</td>\n",
              "      <td>...</td>\n",
              "      <td>...</td>\n",
              "      <td>...</td>\n",
              "      <td>...</td>\n",
              "    </tr>\n",
              "    <tr>\n",
              "      <th>82995</th>\n",
              "      <td>0.556044</td>\n",
              "      <td>0.099980</td>\n",
              "      <td>0.000000</td>\n",
              "      <td>0.0</td>\n",
              "      <td>0.000000</td>\n",
              "      <td>0.494408</td>\n",
              "      <td>0.322331</td>\n",
              "      <td>0.901598</td>\n",
              "      <td>0.027307</td>\n",
              "      <td>1.000000</td>\n",
              "      <td>0.918335</td>\n",
              "      <td>0.637671</td>\n",
              "      <td>0.569843</td>\n",
              "      <td>1.000000</td>\n",
              "      <td>1.000000</td>\n",
              "      <td>0.747456</td>\n",
              "      <td>0.974902</td>\n",
              "      <td>0.595100</td>\n",
              "      <td>0.749825</td>\n",
              "      <td>0.000987</td>\n",
              "      <td>0.608712</td>\n",
              "      <td>1.000000</td>\n",
              "      <td>0.629477</td>\n",
              "      <td>0.664358</td>\n",
              "      <td>0.0</td>\n",
              "      <td>0.0</td>\n",
              "      <td>0.714286</td>\n",
              "      <td>0.333333</td>\n",
              "      <td>0.0</td>\n",
              "      <td>0.0</td>\n",
              "      <td>0.000000</td>\n",
              "      <td>0.590909</td>\n",
              "      <td>0.446441</td>\n",
              "      <td>0.0</td>\n",
              "      <td>0.0</td>\n",
              "      <td>1.0</td>\n",
              "    </tr>\n",
              "    <tr>\n",
              "      <th>82996</th>\n",
              "      <td>0.771429</td>\n",
              "      <td>0.346822</td>\n",
              "      <td>0.000000</td>\n",
              "      <td>0.0</td>\n",
              "      <td>0.201320</td>\n",
              "      <td>0.457390</td>\n",
              "      <td>1.000000</td>\n",
              "      <td>0.743546</td>\n",
              "      <td>0.538781</td>\n",
              "      <td>0.492929</td>\n",
              "      <td>0.918335</td>\n",
              "      <td>0.340091</td>\n",
              "      <td>0.625034</td>\n",
              "      <td>0.000000</td>\n",
              "      <td>0.000000</td>\n",
              "      <td>0.149878</td>\n",
              "      <td>0.000000</td>\n",
              "      <td>0.114054</td>\n",
              "      <td>0.747030</td>\n",
              "      <td>0.033042</td>\n",
              "      <td>0.599534</td>\n",
              "      <td>0.549339</td>\n",
              "      <td>0.629477</td>\n",
              "      <td>0.882350</td>\n",
              "      <td>0.0</td>\n",
              "      <td>1.0</td>\n",
              "      <td>0.071429</td>\n",
              "      <td>0.083333</td>\n",
              "      <td>0.0</td>\n",
              "      <td>0.0</td>\n",
              "      <td>0.289101</td>\n",
              "      <td>0.227273</td>\n",
              "      <td>0.434976</td>\n",
              "      <td>1.0</td>\n",
              "      <td>0.0</td>\n",
              "      <td>1.0</td>\n",
              "    </tr>\n",
              "    <tr>\n",
              "      <th>82997</th>\n",
              "      <td>0.905495</td>\n",
              "      <td>0.012514</td>\n",
              "      <td>0.000000</td>\n",
              "      <td>0.0</td>\n",
              "      <td>0.629094</td>\n",
              "      <td>0.608977</td>\n",
              "      <td>1.000000</td>\n",
              "      <td>0.983701</td>\n",
              "      <td>0.538781</td>\n",
              "      <td>0.186063</td>\n",
              "      <td>0.918335</td>\n",
              "      <td>0.425114</td>\n",
              "      <td>0.625034</td>\n",
              "      <td>0.000000</td>\n",
              "      <td>0.000000</td>\n",
              "      <td>0.074681</td>\n",
              "      <td>0.443419</td>\n",
              "      <td>0.023379</td>\n",
              "      <td>0.474726</td>\n",
              "      <td>1.000000</td>\n",
              "      <td>0.416491</td>\n",
              "      <td>1.000000</td>\n",
              "      <td>1.000000</td>\n",
              "      <td>0.186851</td>\n",
              "      <td>0.0</td>\n",
              "      <td>1.0</td>\n",
              "      <td>0.928571</td>\n",
              "      <td>0.000000</td>\n",
              "      <td>0.0</td>\n",
              "      <td>1.0</td>\n",
              "      <td>0.000000</td>\n",
              "      <td>0.863636</td>\n",
              "      <td>0.658909</td>\n",
              "      <td>1.0</td>\n",
              "      <td>0.0</td>\n",
              "      <td>1.0</td>\n",
              "    </tr>\n",
              "    <tr>\n",
              "      <th>82998</th>\n",
              "      <td>0.547253</td>\n",
              "      <td>0.601097</td>\n",
              "      <td>0.000000</td>\n",
              "      <td>0.0</td>\n",
              "      <td>0.125920</td>\n",
              "      <td>0.022540</td>\n",
              "      <td>0.028682</td>\n",
              "      <td>0.983701</td>\n",
              "      <td>0.538781</td>\n",
              "      <td>0.041124</td>\n",
              "      <td>0.109763</td>\n",
              "      <td>0.042511</td>\n",
              "      <td>0.625034</td>\n",
              "      <td>0.000000</td>\n",
              "      <td>0.333333</td>\n",
              "      <td>0.433571</td>\n",
              "      <td>0.260354</td>\n",
              "      <td>0.116893</td>\n",
              "      <td>0.579548</td>\n",
              "      <td>0.025012</td>\n",
              "      <td>0.498872</td>\n",
              "      <td>1.000000</td>\n",
              "      <td>0.629477</td>\n",
              "      <td>0.062284</td>\n",
              "      <td>0.0</td>\n",
              "      <td>1.0</td>\n",
              "      <td>0.000000</td>\n",
              "      <td>0.333333</td>\n",
              "      <td>0.0</td>\n",
              "      <td>0.0</td>\n",
              "      <td>0.289101</td>\n",
              "      <td>0.136364</td>\n",
              "      <td>0.417857</td>\n",
              "      <td>1.0</td>\n",
              "      <td>0.0</td>\n",
              "      <td>1.0</td>\n",
              "    </tr>\n",
              "    <tr>\n",
              "      <th>82999</th>\n",
              "      <td>0.740659</td>\n",
              "      <td>0.511102</td>\n",
              "      <td>0.000000</td>\n",
              "      <td>0.0</td>\n",
              "      <td>0.257933</td>\n",
              "      <td>0.194873</td>\n",
              "      <td>0.458457</td>\n",
              "      <td>0.983701</td>\n",
              "      <td>0.538781</td>\n",
              "      <td>1.000000</td>\n",
              "      <td>0.918335</td>\n",
              "      <td>0.892739</td>\n",
              "      <td>0.625034</td>\n",
              "      <td>0.000000</td>\n",
              "      <td>0.333333</td>\n",
              "      <td>0.338416</td>\n",
              "      <td>0.616413</td>\n",
              "      <td>0.118346</td>\n",
              "      <td>0.556720</td>\n",
              "      <td>1.000000</td>\n",
              "      <td>0.759705</td>\n",
              "      <td>1.000000</td>\n",
              "      <td>0.629477</td>\n",
              "      <td>0.003463</td>\n",
              "      <td>0.0</td>\n",
              "      <td>0.0</td>\n",
              "      <td>0.428571</td>\n",
              "      <td>0.833333</td>\n",
              "      <td>0.0</td>\n",
              "      <td>0.0</td>\n",
              "      <td>0.000000</td>\n",
              "      <td>0.818182</td>\n",
              "      <td>0.821981</td>\n",
              "      <td>0.0</td>\n",
              "      <td>0.0</td>\n",
              "      <td>1.0</td>\n",
              "    </tr>\n",
              "  </tbody>\n",
              "</table>\n",
              "<p>82465 rows × 36 columns</p>\n",
              "</div>"
            ],
            "text/plain": [
              "          mvar1     mvar2     mvar3  mvar4  ...    mvar44  mvar45  mvar46  mvar47\n",
              "0      0.441758  0.543290  0.000000    0.0  ...  0.615677     1.0     0.0     0.0\n",
              "1      0.771429  0.265881  0.000000    0.0  ...  0.615006     1.0     1.0     1.0\n",
              "2      0.549451  0.131413  0.000000    0.0  ...  1.000000     1.0     0.0     0.0\n",
              "3      0.536264  0.072029  0.000000    0.0  ...  0.502214     0.0     0.0     1.0\n",
              "4      0.641758  0.003876  0.013201    0.0  ...  0.921913     1.0     1.0     1.0\n",
              "...         ...       ...       ...    ...  ...       ...     ...     ...     ...\n",
              "82995  0.556044  0.099980  0.000000    0.0  ...  0.446441     0.0     0.0     1.0\n",
              "82996  0.771429  0.346822  0.000000    0.0  ...  0.434976     1.0     0.0     1.0\n",
              "82997  0.905495  0.012514  0.000000    0.0  ...  0.658909     1.0     0.0     1.0\n",
              "82998  0.547253  0.601097  0.000000    0.0  ...  0.417857     1.0     0.0     1.0\n",
              "82999  0.740659  0.511102  0.000000    0.0  ...  0.821981     0.0     0.0     1.0\n",
              "\n",
              "[82465 rows x 36 columns]"
            ]
          },
          "metadata": {},
          "execution_count": 26
        }
      ]
    },
    {
      "cell_type": "code",
      "metadata": {
        "id": "Wk0pHlf-xr5N",
        "colab": {
          "base_uri": "https://localhost:8080/",
          "height": 540
        },
        "outputId": "4d738fe9-de3c-4232-88df-f9db2d7cf400"
      },
      "source": [
        "import optuna \n",
        "import joblib\n",
        "from optuna import Trial, visualization\n",
        "from optuna.samplers import TPESampler\n",
        "\n",
        "def objective(trial: Trial,X,y) -> float:\n",
        "\n",
        "    param = {\n",
        "                \"n_estimators\" : trial.suggest_int('n_estimators', 500, 2000),\n",
        "                \"num_leaves\": trial.suggest_int('num_leaves',0,50),\n",
        "                'max_depth':trial.suggest_int('max_depth', 2, 10),\n",
        "                'reg_alpha':trial.suggest_loguniform('reg_alpha', 0.01, 5),\n",
        "                'reg_lambda':trial.suggest_loguniform('reg_lambda', 0.1, 5),\n",
        "                'min_split_gain ':trial.suggest_loguniform('min_split_gain ',0.1,5),\n",
        "                'min_child_samples':trial.suggest_int('min_child_samples',0,50),\n",
        "                'min_child_weight':trial.suggest_loguniform('min_child_weight', 0.01, 5),\n",
        "                'learning_rate':trial.suggest_loguniform('learning_rate',0.05,0.5),\n",
        "                'nthread' : -1,\n",
        "                'scale_pos_weight':2.6\n",
        "            }\n",
        "    \n",
        "    model = LGBMClassifier(device=\"gpu\",**param)\n",
        "    \n",
        "    return cross_val_score(model, X, y, cv=3,scoring='roc_auc').mean()\n",
        "  \n",
        "study = optuna.create_study(direction='maximize',sampler=TPESampler())\n",
        "study.optimize(lambda trial : objective(trial,X,Y),n_trials= 10)\n",
        "print('Best trial: score {},\\nparams {}'.format(study.best_trial.value,study.best_trial.params))"
      ],
      "execution_count": null,
      "outputs": [
        {
          "output_type": "stream",
          "name": "stderr",
          "text": [
            "\u001b[32m[I 2021-12-15 13:33:42,194]\u001b[0m A new study created in memory with name: no-name-e5ad2264-e0f3-450c-a50d-282453a6015d\u001b[0m\n",
            "\u001b[33m[W 2021-12-15 13:33:42,945]\u001b[0m Trial 0 failed, because the objective function returned nan.\u001b[0m\n",
            "\u001b[33m[W 2021-12-15 13:33:43,701]\u001b[0m Trial 1 failed, because the objective function returned nan.\u001b[0m\n",
            "\u001b[33m[W 2021-12-15 13:33:44,452]\u001b[0m Trial 2 failed, because the objective function returned nan.\u001b[0m\n",
            "\u001b[33m[W 2021-12-15 13:33:45,195]\u001b[0m Trial 3 failed, because the objective function returned nan.\u001b[0m\n",
            "\u001b[33m[W 2021-12-15 13:33:45,935]\u001b[0m Trial 4 failed, because the objective function returned nan.\u001b[0m\n",
            "\u001b[33m[W 2021-12-15 13:33:46,681]\u001b[0m Trial 5 failed, because the objective function returned nan.\u001b[0m\n",
            "\u001b[33m[W 2021-12-15 13:33:47,425]\u001b[0m Trial 6 failed, because the objective function returned nan.\u001b[0m\n",
            "\u001b[33m[W 2021-12-15 13:33:48,169]\u001b[0m Trial 7 failed, because the objective function returned nan.\u001b[0m\n",
            "\u001b[33m[W 2021-12-15 13:33:48,948]\u001b[0m Trial 8 failed, because the objective function returned nan.\u001b[0m\n",
            "\u001b[33m[W 2021-12-15 13:33:49,700]\u001b[0m Trial 9 failed, because the objective function returned nan.\u001b[0m\n"
          ]
        },
        {
          "output_type": "error",
          "ename": "ValueError",
          "evalue": "ignored",
          "traceback": [
            "\u001b[0;31m---------------------------------------------------------------------------\u001b[0m",
            "\u001b[0;31mValueError\u001b[0m                                Traceback (most recent call last)",
            "\u001b[0;32m<ipython-input-27-ce2114204292>\u001b[0m in \u001b[0;36m<module>\u001b[0;34m()\u001b[0m\n\u001b[1;32m     26\u001b[0m \u001b[0mstudy\u001b[0m \u001b[0;34m=\u001b[0m \u001b[0moptuna\u001b[0m\u001b[0;34m.\u001b[0m\u001b[0mcreate_study\u001b[0m\u001b[0;34m(\u001b[0m\u001b[0mdirection\u001b[0m\u001b[0;34m=\u001b[0m\u001b[0;34m'maximize'\u001b[0m\u001b[0;34m,\u001b[0m\u001b[0msampler\u001b[0m\u001b[0;34m=\u001b[0m\u001b[0mTPESampler\u001b[0m\u001b[0;34m(\u001b[0m\u001b[0;34m)\u001b[0m\u001b[0;34m)\u001b[0m\u001b[0;34m\u001b[0m\u001b[0;34m\u001b[0m\u001b[0m\n\u001b[1;32m     27\u001b[0m \u001b[0mstudy\u001b[0m\u001b[0;34m.\u001b[0m\u001b[0moptimize\u001b[0m\u001b[0;34m(\u001b[0m\u001b[0;32mlambda\u001b[0m \u001b[0mtrial\u001b[0m \u001b[0;34m:\u001b[0m \u001b[0mobjective\u001b[0m\u001b[0;34m(\u001b[0m\u001b[0mtrial\u001b[0m\u001b[0;34m,\u001b[0m\u001b[0mX\u001b[0m\u001b[0;34m,\u001b[0m\u001b[0mY\u001b[0m\u001b[0;34m)\u001b[0m\u001b[0;34m,\u001b[0m\u001b[0mn_trials\u001b[0m\u001b[0;34m=\u001b[0m \u001b[0;36m10\u001b[0m\u001b[0;34m)\u001b[0m\u001b[0;34m\u001b[0m\u001b[0;34m\u001b[0m\u001b[0m\n\u001b[0;32m---> 28\u001b[0;31m \u001b[0mprint\u001b[0m\u001b[0;34m(\u001b[0m\u001b[0;34m'Best trial: score {},\\nparams {}'\u001b[0m\u001b[0;34m.\u001b[0m\u001b[0mformat\u001b[0m\u001b[0;34m(\u001b[0m\u001b[0mstudy\u001b[0m\u001b[0;34m.\u001b[0m\u001b[0mbest_trial\u001b[0m\u001b[0;34m.\u001b[0m\u001b[0mvalue\u001b[0m\u001b[0;34m,\u001b[0m\u001b[0mstudy\u001b[0m\u001b[0;34m.\u001b[0m\u001b[0mbest_trial\u001b[0m\u001b[0;34m.\u001b[0m\u001b[0mparams\u001b[0m\u001b[0;34m)\u001b[0m\u001b[0;34m)\u001b[0m\u001b[0;34m\u001b[0m\u001b[0;34m\u001b[0m\u001b[0m\n\u001b[0m",
            "\u001b[0;32m/usr/local/lib/python3.7/dist-packages/optuna/study/study.py\u001b[0m in \u001b[0;36mbest_trial\u001b[0;34m(self)\u001b[0m\n\u001b[1;32m     95\u001b[0m             )\n\u001b[1;32m     96\u001b[0m \u001b[0;34m\u001b[0m\u001b[0m\n\u001b[0;32m---> 97\u001b[0;31m         \u001b[0;32mreturn\u001b[0m \u001b[0mcopy\u001b[0m\u001b[0;34m.\u001b[0m\u001b[0mdeepcopy\u001b[0m\u001b[0;34m(\u001b[0m\u001b[0mself\u001b[0m\u001b[0;34m.\u001b[0m\u001b[0m_storage\u001b[0m\u001b[0;34m.\u001b[0m\u001b[0mget_best_trial\u001b[0m\u001b[0;34m(\u001b[0m\u001b[0mself\u001b[0m\u001b[0;34m.\u001b[0m\u001b[0m_study_id\u001b[0m\u001b[0;34m)\u001b[0m\u001b[0;34m)\u001b[0m\u001b[0;34m\u001b[0m\u001b[0;34m\u001b[0m\u001b[0m\n\u001b[0m\u001b[1;32m     98\u001b[0m \u001b[0;34m\u001b[0m\u001b[0m\n\u001b[1;32m     99\u001b[0m     \u001b[0;34m@\u001b[0m\u001b[0mproperty\u001b[0m\u001b[0;34m\u001b[0m\u001b[0;34m\u001b[0m\u001b[0m\n",
            "\u001b[0;32m/usr/local/lib/python3.7/dist-packages/optuna/storages/_in_memory.py\u001b[0m in \u001b[0;36mget_best_trial\u001b[0;34m(self, study_id)\u001b[0m\n\u001b[1;32m    309\u001b[0m             \u001b[0mbest_trial_id\u001b[0m \u001b[0;34m=\u001b[0m \u001b[0mself\u001b[0m\u001b[0;34m.\u001b[0m\u001b[0m_studies\u001b[0m\u001b[0;34m[\u001b[0m\u001b[0mstudy_id\u001b[0m\u001b[0;34m]\u001b[0m\u001b[0;34m.\u001b[0m\u001b[0mbest_trial_id\u001b[0m\u001b[0;34m\u001b[0m\u001b[0;34m\u001b[0m\u001b[0m\n\u001b[1;32m    310\u001b[0m             \u001b[0;32mif\u001b[0m \u001b[0mbest_trial_id\u001b[0m \u001b[0;32mis\u001b[0m \u001b[0;32mNone\u001b[0m\u001b[0;34m:\u001b[0m\u001b[0;34m\u001b[0m\u001b[0;34m\u001b[0m\u001b[0m\n\u001b[0;32m--> 311\u001b[0;31m                 \u001b[0;32mraise\u001b[0m \u001b[0mValueError\u001b[0m\u001b[0;34m(\u001b[0m\u001b[0;34m\"No trials are completed yet.\"\u001b[0m\u001b[0;34m)\u001b[0m\u001b[0;34m\u001b[0m\u001b[0;34m\u001b[0m\u001b[0m\n\u001b[0m\u001b[1;32m    312\u001b[0m             \u001b[0;32melif\u001b[0m \u001b[0mlen\u001b[0m\u001b[0;34m(\u001b[0m\u001b[0mself\u001b[0m\u001b[0;34m.\u001b[0m\u001b[0m_studies\u001b[0m\u001b[0;34m[\u001b[0m\u001b[0mstudy_id\u001b[0m\u001b[0;34m]\u001b[0m\u001b[0;34m.\u001b[0m\u001b[0mdirections\u001b[0m\u001b[0;34m)\u001b[0m \u001b[0;34m>\u001b[0m \u001b[0;36m1\u001b[0m\u001b[0;34m:\u001b[0m\u001b[0;34m\u001b[0m\u001b[0;34m\u001b[0m\u001b[0m\n\u001b[1;32m    313\u001b[0m                 raise ValueError(\n",
            "\u001b[0;31mValueError\u001b[0m: No trials are completed yet."
          ]
        }
      ]
    },
    {
      "cell_type": "code",
      "source": [],
      "metadata": {
        "id": "2usuI-ATQHgS"
      },
      "execution_count": null,
      "outputs": []
    },
    {
      "cell_type": "code",
      "metadata": {
        "colab": {
          "base_uri": "https://localhost:8080/"
        },
        "id": "3leoLjv-yqqA",
        "outputId": "cd102809-08f8-4330-f53e-0075bbd7253f"
      },
      "source": [
        "from xgboost import XGBClassifier\n",
        "param = {'n_estimators': 526, 'max_depth': 5, 'reg_alpha': 0, 'reg_lambda': 4, 'min_child_weight': 0, 'gamma': 4, 'learning_rate': 0.05426408985502295, 'colsample_bytree': 0.38,'scale_pos_weight':2.5}\n",
        "model = XGBClassifier(**param)\n",
        "#lr = LogisticRegression()\n",
        "model.fit(x_train,y_train)\n",
        "preds = model.predict(x_test)\n",
        "print(\"confusion matrix:\",confusion_matrix(y_test,preds))\n",
        "print(\"accuracy_score:\",accuracy_score(y_test,preds))\n",
        "print(\"recall_score:\",recall_score(y_test,preds))\n",
        "print(\"f1_score:\",f1_score(y_test,preds))\n",
        "print(\"precision_score:\",precision_score(y_test,preds))\n",
        "print(\"balanced_accuracy_score:\",balanced_accuracy_score(y_test,preds))"
      ],
      "execution_count": null,
      "outputs": [
        {
          "output_type": "stream",
          "name": "stdout",
          "text": [
            "confusion matrix: [[13096  4658]\n",
            " [ 2203  4943]]\n",
            "accuracy_score: 0.7244578313253012\n",
            "recall_score: 0.6917156451161489\n",
            "f1_score: 0.5903146832268465\n",
            "precision_score: 0.5148422039370899\n",
            "balanced_accuracy_score: 0.7146761170269266\n"
          ]
        }
      ]
    },
    {
      "cell_type": "code",
      "source": [
        "param = {'n_estimators': 526, 'max_depth': 5, 'reg_alpha': 0, 'reg_lambda': 4, 'min_child_weight': 0, 'gamma': 4, 'learning_rate': 0.05426408985502295, 'colsample_bytree': 0.38,'scale_pos_weight':2.5}\n",
        "model = XGBClassifier(**param)\n",
        "#lr = LogisticRegression()\n",
        "model.fit(X,Y)\n",
        "preds = model.predict(test_df_copy)"
      ],
      "metadata": {
        "id": "fp1TQEFBy_kq"
      },
      "execution_count": null,
      "outputs": []
    },
    {
      "cell_type": "code",
      "source": [],
      "metadata": {
        "id": "lCtNW0m8z7Hh"
      },
      "execution_count": null,
      "outputs": []
    },
    {
      "cell_type": "code",
      "source": [
        "test_df['default_ind'] = preds\n",
        "test_df[['application_key','default_ind']].astype(int).to_csv(\"submission4.csv\",index=False,header=False)"
      ],
      "metadata": {
        "id": "tGVm2OpXz5zO"
      },
      "execution_count": null,
      "outputs": []
    },
    {
      "cell_type": "markdown",
      "source": [
        "## Using Random Forest"
      ],
      "metadata": {
        "id": "bKZMHuM-ka-y"
      }
    },
    {
      "cell_type": "code",
      "metadata": {
        "id": "E5xdMFFDMj-9"
      },
      "source": [
        "#n_estimators = 50, max_depth=15\n",
        "from sklearn.ensemble import RandomForestClassifier\n",
        "from sklearn.model_selection import validation_curve\n",
        "train_scoreNum, test_scoreNum = validation_curve(\n",
        "                                RandomForestClassifier(n_estimators=50,max_depth=15,min_samples_split=2,min_samples_leaf=1),\n",
        "                                X = x_train, y = y_train, \n",
        "                                param_name = 'min_samples_leaf', \n",
        "                                param_range = [1,2,3,4,5], cv = 3,scoring = \"roc_auc\")\n"
      ],
      "execution_count": null,
      "outputs": []
    },
    {
      "cell_type": "code",
      "source": [
        "mean_train_score = np.mean(train_scoreNum, axis = 1)\n",
        "std_train_score = np.std(train_scoreNum, axis = 1)\n",
        " \n",
        "# Calculating mean and standard deviation of testing score\n",
        "mean_test_score = np.mean(test_scoreNum, axis = 1)\n",
        "std_test_score = np.std(test_scoreNum, axis = 1)\n",
        " \n",
        "# Plot mean accuracy scores for training and testing scores\n",
        "plt.plot([1,2,3,4,5], mean_train_score,\n",
        "     label = \"Training Score\", color = 'b')\n",
        "plt.plot([1,2,3,4,5], mean_test_score,\n",
        "   label = \"Cross Validation Score\", color = 'g')\n",
        " \n",
        "# Creating the plot\n",
        "plt.title(\"Validation Curve with rfClassifier\")\n",
        "plt.xlabel(\"Number of max_depth\")\n",
        "plt.ylabel(\"Accuracy\")\n",
        "plt.tight_layout()\n",
        "plt.legend(loc = 'best')\n",
        "plt.show()"
      ],
      "metadata": {
        "colab": {
          "base_uri": "https://localhost:8080/",
          "height": 297
        },
        "id": "bxdVlqb2Iuhy",
        "outputId": "0e5ed1f9-a844-4f0b-dec6-8471d3844eff"
      },
      "execution_count": null,
      "outputs": [
        {
          "output_type": "display_data",
          "data": {
            "image/png": "[encoded data removed]",
            "text/plain": [
              "<Figure size 432x288 with 1 Axes>"
            ]
          },
          "metadata": {
            "needs_background": "light"
          }
        }
      ]
    },
    {
      "cell_type": "code",
      "source": [
        "forestVC = RandomForestClassifier(n_estimators=50,max_depth=15,min_samples_split=2,min_samples_leaf=1) \n",
        "modelVC = forestVC.fit(x_train, y_train) "
      ],
      "metadata": {
        "id": "I86ZgLjLhB1-"
      },
      "execution_count": null,
      "outputs": []
    },
    {
      "cell_type": "code",
      "metadata": {
        "id": "DaNwahhZhPRO",
        "colab": {
          "base_uri": "https://localhost:8080/"
        },
        "outputId": "f029cb33-3140-42f3-87ec-26cb13978285"
      },
      "source": [
        "preds = modelVC.predict(x_test)\n",
        "print(\"confusion matrix:\",confusion_matrix(y_test,preds))\n",
        "print(\"accuracy_score:\",accuracy_score(y_test,preds))\n",
        "print(\"recall_score:\",recall_score(y_test,preds))\n",
        "print(\"f1_score:\",f1_score(y_test,preds))\n",
        "print(\"precision_score:\",precision_score(y_test,preds))\n",
        "print(\"balanced_accuracy_score:\",balanced_accuracy_score(y_test,preds))"
      ],
      "execution_count": null,
      "outputs": [
        {
          "output_type": "stream",
          "name": "stdout",
          "text": [
            "confusion matrix: [[16384  1370]\n",
            " [ 4348  2798]]\n",
            "accuracy_score: 0.7703614457831325\n",
            "recall_score: 0.3915477190036384\n",
            "f1_score: 0.49460844970832596\n",
            "precision_score: 0.6713051823416507\n",
            "balanced_accuracy_score: 0.6571910049338345\n"
          ]
        }
      ]
    },
    {
      "cell_type": "code",
      "source": [
        "preds = modelVC.predict(x_train)\n",
        "print(\"confusion matrix:\",confusion_matrix(y_train,preds))\n",
        "print(\"accuracy_score:\",accuracy_score(y_train,preds))\n",
        "print(\"recall_score:\",recall_score(y_train,preds))\n",
        "print(\"f1_score:\",f1_score(y_train,preds))\n",
        "print(\"precision_score:\",precision_score(y_train,preds))\n",
        "print(\"balanced_accuracy_score:\",balanced_accuracy_score(y_train,preds))"
      ],
      "metadata": {
        "colab": {
          "base_uri": "https://localhost:8080/"
        },
        "id": "rlKkq7FvuSJu",
        "outputId": "ab4069b1-9c82-4152-9266-1db5ad12eb41"
      },
      "execution_count": null,
      "outputs": [
        {
          "output_type": "stream",
          "name": "stdout",
          "text": [
            "confusion matrix: [[41053   338]\n",
            " [ 5146 11563]]\n",
            "accuracy_score: 0.9056110154905336\n",
            "recall_score: 0.6920222634508348\n",
            "f1_score: 0.8083187696609576\n",
            "precision_score: 0.9715990252919923\n",
            "balanced_accuracy_score: 0.8419281185099841\n"
          ]
        }
      ]
    },
    {
      "cell_type": "markdown",
      "source": [
        "## Using Lightgbm"
      ],
      "metadata": {
        "id": "xUn5Qo9dKcej"
      }
    },
    {
      "cell_type": "code",
      "source": [
        "from lightgbm import LGBMClassifier"
      ],
      "metadata": {
        "id": "rbhGuxc-xSnC"
      },
      "execution_count": null,
      "outputs": []
    },
    {
      "cell_type": "code",
      "source": [
        "import optuna \n",
        "import joblib\n",
        "from optuna import Trial, visualization\n",
        "from optuna.samplers import TPESampler\n",
        "def objective(trial: Trial,X,y) -> float:\n",
        "    \n",
        "    joblib.dump(study, 'study.pkl')\n",
        "\n",
        "    param = {\n",
        "                \"n_estimators\" : trial.suggest_int('n_estimators', 500, 2000),\n",
        "                \"num_leaves\": trial.suggest_int('num_leaves',0,50),\n",
        "                'max_depth':trial.suggest_int('max_depth', 2, 10),\n",
        "                'reg_alpha':trial.suggest_loguniform('reg_alpha', 0.01, 5),\n",
        "                'reg_lambda':trial.suggest_loguniform('reg_lambda', 0.1, 5),\n",
        "                'min_split_gain ':trial.suggest_loguniform('min_split_gain ',0.1,5),\n",
        "                'min_child_samples':trial.suggest_int('min_child_samples',0,50),\n",
        "                'min_child_weight':trial.suggest_loguniform('min_child_weight', 0.01, 5),\n",
        "                'learning_rate':trial.suggest_loguniform('learning_rate',0.05,0.5)\n",
        "            }\n",
        "    \n",
        "    model = LGBMClassifier(**param)\n",
        "    \n",
        "    return cross_val_score(model, X, y, cv=3,scoring='roc_auc').mean()\n",
        "  \n",
        "study = optuna.create_study(direction='maximize',sampler=TPESampler())\n",
        "study.optimize(lambda trial : objective(trial,x_train,y_train),n_trials= 10)\n",
        "print('Best trial: score {},\\nparams {}'.format(study.best_trial.value,study.best_trial.params))"
      ],
      "metadata": {
        "colab": {
          "base_uri": "https://localhost:8080/"
        },
        "id": "BbCYeNVSMk1n",
        "outputId": "f74cfc70-2857-44cb-e7aa-29ae69762392"
      },
      "execution_count": null,
      "outputs": [
        {
          "output_type": "stream",
          "name": "stderr",
          "text": [
            "\u001b[32m[I 2021-12-08 13:49:32,783]\u001b[0m A new study created in memory with name: no-name-84057032-e2bc-47b3-8890-45fa4d11d06d\u001b[0m\n",
            "\u001b[32m[I 2021-12-08 13:50:09,333]\u001b[0m Trial 0 finished with value: 0.7610047505401436 and parameters: {'n_estimators': 1614, 'num_leaves': 32, 'max_depth': 4, 'reg_alpha': 0.2662089070963447, 'reg_lambda': 0.3558375812889827, 'min_split_gain ': 0.3897623507686775, 'min_child_samples': 2, 'min_child_weight': 0.5097301514414817, 'learning_rate': 0.12519817943726816}. Best is trial 0 with value: 0.7610047505401436.\u001b[0m\n",
            "\u001b[32m[I 2021-12-08 13:50:32,199]\u001b[0m Trial 1 finished with value: 0.756329531537619 and parameters: {'n_estimators': 1085, 'num_leaves': 14, 'max_depth': 9, 'reg_alpha': 0.057734578446689264, 'reg_lambda': 4.1790078093017025, 'min_split_gain ': 4.036711502716259, 'min_child_samples': 39, 'min_child_weight': 0.048840885518998296, 'learning_rate': 0.2445896913349848}. Best is trial 0 with value: 0.7610047505401436.\u001b[0m\n",
            "\u001b[32m[I 2021-12-08 13:50:56,808]\u001b[0m Trial 2 finished with value: 0.7752856486977037 and parameters: {'n_estimators': 637, 'num_leaves': 44, 'max_depth': 10, 'reg_alpha': 0.47041130064476866, 'reg_lambda': 0.18446924483783245, 'min_split_gain ': 0.29938087998914237, 'min_child_samples': 20, 'min_child_weight': 2.2551999981661677, 'learning_rate': 0.051317433883951484}. Best is trial 2 with value: 0.7752856486977037.\u001b[0m\n",
            "\u001b[32m[I 2021-12-08 13:51:21,912]\u001b[0m Trial 3 finished with value: 0.7776051490581731 and parameters: {'n_estimators': 1131, 'num_leaves': 15, 'max_depth': 5, 'reg_alpha': 0.018842055477212634, 'reg_lambda': 0.4678299757860414, 'min_split_gain ': 0.6651124068830108, 'min_child_samples': 3, 'min_child_weight': 0.07485203792795429, 'learning_rate': 0.050574489470863924}. Best is trial 3 with value: 0.7776051490581731.\u001b[0m\n",
            "\u001b[32m[I 2021-12-08 13:52:03,341]\u001b[0m Trial 4 finished with value: 0.7265854559401882 and parameters: {'n_estimators': 1857, 'num_leaves': 38, 'max_depth': 4, 'reg_alpha': 0.011900551757256867, 'reg_lambda': 0.11615243380211106, 'min_split_gain ': 0.3697475702937694, 'min_child_samples': 7, 'min_child_weight': 1.9971547601915545, 'learning_rate': 0.48187422299073834}. Best is trial 3 with value: 0.7776051490581731.\u001b[0m\n",
            "\u001b[32m[I 2021-12-08 13:52:34,701]\u001b[0m Trial 5 finished with value: 0.7732649521111395 and parameters: {'n_estimators': 1160, 'num_leaves': 28, 'max_depth': 5, 'reg_alpha': 0.021630909223365153, 'reg_lambda': 0.4026072780935597, 'min_split_gain ': 1.6707224531254783, 'min_child_samples': 43, 'min_child_weight': 0.07354421105773166, 'learning_rate': 0.054051452366466406}. Best is trial 3 with value: 0.7776051490581731.\u001b[0m\n",
            "\u001b[32m[I 2021-12-08 13:52:51,007]\u001b[0m Trial 6 finished with value: 0.7795323234102951 and parameters: {'n_estimators': 520, 'num_leaves': 23, 'max_depth': 9, 'reg_alpha': 2.718845232198025, 'reg_lambda': 0.9115429627575123, 'min_split_gain ': 0.18980558808212342, 'min_child_samples': 8, 'min_child_weight': 0.08656845319374155, 'learning_rate': 0.0574267430794456}. Best is trial 6 with value: 0.7795323234102951.\u001b[0m\n",
            "\u001b[32m[I 2021-12-08 13:53:07,091]\u001b[0m Trial 7 finished with value: 0.7755971400251135 and parameters: {'n_estimators': 917, 'num_leaves': 8, 'max_depth': 10, 'reg_alpha': 0.03048579141300891, 'reg_lambda': 0.4487069832657961, 'min_split_gain ': 2.034825949228168, 'min_child_samples': 50, 'min_child_weight': 0.6342424167314739, 'learning_rate': 0.12130198621370943}. Best is trial 6 with value: 0.7795323234102951.\u001b[0m\n",
            "\u001b[32m[I 2021-12-08 13:53:39,958]\u001b[0m Trial 8 finished with value: 0.7359359602775851 and parameters: {'n_estimators': 1454, 'num_leaves': 17, 'max_depth': 8, 'reg_alpha': 0.21283786092358162, 'reg_lambda': 0.3315833359365312, 'min_split_gain ': 3.788833895244729, 'min_child_samples': 19, 'min_child_weight': 3.297800270381785, 'learning_rate': 0.3947038318468334}. Best is trial 6 with value: 0.7795323234102951.\u001b[0m\n",
            "\u001b[32m[I 2021-12-08 13:53:59,615]\u001b[0m Trial 9 finished with value: 0.7803385557894894 and parameters: {'n_estimators': 1855, 'num_leaves': 2, 'max_depth': 10, 'reg_alpha': 0.021789970165365304, 'reg_lambda': 0.45751746262521453, 'min_split_gain ': 1.0176210979535125, 'min_child_samples': 5, 'min_child_weight': 0.3010481694037891, 'learning_rate': 0.11912799020355966}. Best is trial 9 with value: 0.7803385557894894.\u001b[0m\n"
          ]
        },
        {
          "output_type": "stream",
          "name": "stdout",
          "text": [
            "Best trial: score 0.7803385557894894,\n",
            "params {'n_estimators': 1855, 'num_leaves': 2, 'max_depth': 10, 'reg_alpha': 0.021789970165365304, 'reg_lambda': 0.45751746262521453, 'min_split_gain ': 1.0176210979535125, 'min_child_samples': 5, 'min_child_weight': 0.3010481694037891, 'learning_rate': 0.11912799020355966}\n"
          ]
        }
      ]
    },
    {
      "cell_type": "code",
      "source": [
        "param = {'n_estimators': 1855, 'num_leaves': 2, 'max_depth': 10, 'reg_alpha': 0.021789970165365304, 'reg_lambda': 0.45751746262521453, 'min_split_gain ': 1.0176210979535125, 'min_child_samples': 5, 'min_child_weight': 0.3010481694037891, 'learning_rate': 0.11912799020355966}\n",
        "lgclf = lgb.LGBMClassifier(**param)\n",
        "lgclf.fit(x_train, y_train)"
      ],
      "metadata": {
        "id": "jVo6kZUTxdJ8",
        "colab": {
          "base_uri": "https://localhost:8080/"
        },
        "outputId": "f23266a6-073b-4d40-8f7f-cec2b1b33159"
      },
      "execution_count": null,
      "outputs": [
        {
          "output_type": "execute_result",
          "data": {
            "text/plain": [
              "LGBMClassifier(learning_rate=0.11912799020355966, max_depth=10,\n",
              "               min_child_samples=5, min_child_weight=0.3010481694037891,\n",
              "               min_split_gain =1.0176210979535125, n_estimators=1855,\n",
              "               num_leaves=2, reg_alpha=0.021789970165365304,\n",
              "               reg_lambda=0.45751746262521453)"
            ]
          },
          "metadata": {},
          "execution_count": 35
        }
      ]
    },
    {
      "cell_type": "code",
      "source": [
        "preds = lgclf.predict(x_test)\n",
        "print(\"confusion matrix:\",confusion_matrix(y_test,preds))\n",
        "print(\"accuracy_score:\",accuracy_score(y_test,preds))\n",
        "print(\"recall_score:\",recall_score(y_test,preds))\n",
        "print(\"f1_score:\",f1_score(y_test,preds))\n",
        "print(\"precision_score:\",precision_score(y_test,preds))\n",
        "print(\"balanced_accuracy_score:\",balanced_accuracy_score(y_test,preds))"
      ],
      "metadata": {
        "id": "lY4ZmFNDxTc7",
        "colab": {
          "base_uri": "https://localhost:8080/"
        },
        "outputId": "61232430-b7b8-43d0-f20f-64d14e3baa2e"
      },
      "execution_count": null,
      "outputs": [
        {
          "output_type": "stream",
          "name": "stdout",
          "text": [
            "confusion matrix: [[16298  1456]\n",
            " [ 4178  2968]]\n",
            "accuracy_score: 0.7737349397590362\n",
            "recall_score: 0.4153372516092919\n",
            "f1_score: 0.5130509939498704\n",
            "precision_score: 0.6708860759493671\n",
            "balanced_accuracy_score: 0.6666637818258243\n"
          ]
        }
      ]
    },
    {
      "cell_type": "code",
      "metadata": {
        "id": "fzry__AdDOyP"
      },
      "source": [
        "test_preds = model.predict(test_df_copy)\n",
        "test_df['default_ind'] = test_preds\n",
        "test_df[['application_key','default_ind']].astype(int).to_csv(\"submission4.csv\",index=False,header=False)"
      ],
      "execution_count": null,
      "outputs": []
    }
  ]
}